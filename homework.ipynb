{
 "cells": [
  {
   "cell_type": "markdown",
   "metadata": {},
   "source": [
    "# 1 Задание\n",
    "\n",
    "### Условие\n",
    "\n",
    "Пусть $X_1, ..., X_16$ - случайная выборка с распределением $X_i \\in N(a, 1)$\n",
    "\n",
    "Будем проверять гипотезы: <br/>\n",
    "$H_0: a = 0$ <br/>\n",
    "$H_1: a = 2$ <br/>\n",
    "\n",
    "Критерии проверки: <br/>\n",
    "Если $\\overline{X} \\leq 1$, то принимаем $H_1$, иначе принимаем $H_2$\n",
    "\n",
    "## Ошибка первого рода\n",
    "\n",
    "Найдем ошибку первого рода: <br/>\n",
    "$\\overline{X} = \\frac{1}{16} \\sum_{i=1}^{16} X_i \\in N(a, \\frac{1}{16})$ <br/>\n",
    "\n",
    "$P(ош\\ 1\\ рода) = P(\\overline{X} > 1\\ |\\ \\overline{X} \\in N(0, \\frac{1}{16})) = P(Y > 4\\ |\\ Y \\in N(0, 1))$\n",
    "\n",
    "Проверим по таблице для нормального распределения, с какой вероятностью $P(Y > 4\\ |\\ Y \\in N(0, 1))$\n",
    "\n",
    "$P(Y > 4\\ |\\ Y \\in N(0, 1)) = 1 - \\Phi(4) \\approx 0$\n",
    "\n",
    "Как можно видеть, при выбранном критерии на выборке из 16 величин вероятность ошибка первого рода почти нулевая\n",
    "\n",
    "## Ошибка второго рода\n",
    "\n",
    "Найдем ошибку второго рода: <br/>\n",
    "\n",
    "$P(ош\\ 2\\ рода) = P(\\overline{X} \\leq 1\\ |\\ \\overline{X} \\in N(2, \\frac{1}{16})) = P(Y \\leq -4\\ |\\ Y \\in N(0, 1))$\n",
    "\n",
    "Аналогично предыдущему пункту\n",
    "\n",
    "$P(Y \\leq -4\\ |\\ Y \\in N(0, 1)) = \\Phi(-4) \\approx 0$\n",
    "\n",
    "Как можно видеть, при выбранном критерии на выборке из 16 величин вероятность ошибка второго рода тоже почти нулевая"
   ]
  },
  {
   "cell_type": "markdown",
   "metadata": {},
   "source": [
    "# 2 Задание\n",
    "\n",
    "## Пункт 1\n",
    "\n",
    "Проверим, что значения из выборки соответствуют равномерному распределению на отрезке [0, 1]. Считаем данные:"
   ]
  },
  {
   "cell_type": "code",
   "execution_count": 84,
   "metadata": {},
   "outputs": [],
   "source": [
    "import pandas\n",
    "\n",
    "def P(r):\n",
    "    low, high = r\n",
    "    if low <= 0:\n",
    "        low = 0.0\n",
    "    if high >= 1:\n",
    "        high = 1.0\n",
    "    return high - low\n",
    "\n",
    "df = pandas.read_excel('table.xlsx')\n",
    "K = df.iloc[:, 10].dropna()\n",
    "n = len(K)"
   ]
  },
  {
   "cell_type": "markdown",
   "metadata": {},
   "source": [
    "Разобъем всю числовую ось на 10 групп"
   ]
  },
  {
   "cell_type": "code",
   "execution_count": 85,
   "metadata": {},
   "outputs": [
    {
     "name": "stdout",
     "output_type": "stream",
     "text": [
      "Количество значений в промежутке:\n",
      "(-inf, 0.1) : 11\n",
      "(0.1, 0.2) : 2\n",
      "(0.2, 0.3) : 2\n",
      "(0.3, 0.4) : 2\n",
      "(0.4, 0.5) : 2\n",
      "(0.5, 0.6) : 4\n",
      "(0.6, 0.7) : 4\n",
      "(0.7, 0.8) : 0\n",
      "(0.8, 0.9) : 1\n",
      "(0.9, inf) : 2\n"
     ]
    }
   ],
   "source": [
    "import math\n",
    "\n",
    "ranges = []\n",
    "low = -math.inf\n",
    "for i in range(1, 10):\n",
    "    high = round(i * 0.1, 2)\n",
    "    ranges.append((low, high))\n",
    "    low = high\n",
    "ranges.append((low, math.inf))\n",
    "    \n",
    "range_to_num_values = {}\n",
    "for r in ranges:\n",
    "    range_to_num_values[r] = 0\n",
    "    for v in K:\n",
    "        if v >= r[0] and v < r[1]:\n",
    "            range_to_num_values[r] += 1\n",
    "\n",
    "print(\"Количество значений в промежутке:\")\n",
    "for r, num in range_to_num_values.items():\n",
    "    print(f\"{r} : {num}\")"
   ]
  },
  {
   "cell_type": "markdown",
   "metadata": {},
   "source": [
    "Найдем значение статистики"
   ]
  },
  {
   "cell_type": "code",
   "execution_count": 86,
   "metadata": {},
   "outputs": [
    {
     "name": "stdout",
     "output_type": "stream",
     "text": [
      "Значение статистики хи-квадрат: 28.0\n"
     ]
    }
   ],
   "source": [
    "stat = 0\n",
    "for r, num in range_to_num_values.items():\n",
    "    stat += (num - n * P(r)) ** 2 / (n * P(r))\n",
    "    \n",
    "print(f\"Значение статистики хи-квадрат: {stat}\")"
   ]
  },
  {
   "cell_type": "markdown",
   "metadata": {},
   "source": [
    "Найдем $1 - a$ квантиль по таблице распределния хи квадрат при $a = 0.2$\n",
    "\n",
    "Это будет число $z \\approx 12.242$. Видно, что значение статистики $X^{2}_{30, 10} > z$, а значит отвергаем предположение о том, что значения равномерно распределены на отрезке [0, 1]"
   ]
  },
  {
   "cell_type": "markdown",
   "metadata": {},
   "source": [
    "## Пункт 2\n",
    "\n",
    "### Критерий хи-квадрат\n",
    "\n",
    "Проверим с помощью критерия хи-квадрат гипотезу о том, что значения выборок имеют одинаковый закон распределения. Считаем данные:"
   ]
  },
  {
   "cell_type": "code",
   "execution_count": 87,
   "metadata": {},
   "outputs": [],
   "source": [
    "import pandas\n",
    "\n",
    "df = pandas.read_excel('table.xlsx')\n",
    "K = df.iloc[:, 10].dropna()\n",
    "M = df.iloc[:, 12].dropna()\n",
    "n = len(K)\n",
    "m = len(M)"
   ]
  },
  {
   "cell_type": "markdown",
   "metadata": {},
   "source": [
    "Все значения из обоих выборок попадают в промежуток (-1, 1), так что разобъем этот промежуток на 10 групп и применим критерий хи-квадрат"
   ]
  },
  {
   "cell_type": "code",
   "execution_count": 88,
   "metadata": {},
   "outputs": [
    {
     "name": "stdout",
     "output_type": "stream",
     "text": [
      "Количество значений в промежутке:\n",
      "(-1.0, -0.8) : 2 2\n",
      "(-0.8, -0.6) : 4 2\n",
      "(-0.6, -0.4) : 1 8\n",
      "(-0.4, -0.2) : 2 1\n",
      "(-0.2, 0.0) : 2 2\n",
      "(0.0, 0.2) : 2 2\n",
      "(0.2, 0.4) : 4 4\n",
      "(0.4, 0.6) : 6 5\n",
      "(0.6, 0.8) : 4 1\n",
      "(0.8, 1.0) : 3 3\n"
     ]
    }
   ],
   "source": [
    "import math\n",
    "\n",
    "ranges = []\n",
    "low = -1.0\n",
    "delta = 0.2\n",
    "for i in range(1, 10):\n",
    "    high = round(low + delta, 2)\n",
    "    ranges.append((low, high))\n",
    "    low = high\n",
    "ranges.append((low, 1.0))\n",
    "    \n",
    "K_range_to_num_values = {}\n",
    "M_range_to_num_values = {}\n",
    "for r in ranges:\n",
    "    K_range_to_num_values[r] = 0\n",
    "    M_range_to_num_values[r] = 0\n",
    "    for v in K:\n",
    "        if v >= r[0] and v < r[1]:\n",
    "            K_range_to_num_values[r] += 1\n",
    "    for v in M:\n",
    "        if v >= r[0] and v < r[1]:\n",
    "            M_range_to_num_values[r] += 1\n",
    "\n",
    "print(\"Количество значений в промежутке:\")\n",
    "for r, num in K_range_to_num_values.items():\n",
    "    print(f\"{r} : {num} {M_range_to_num_values[r]}\")"
   ]
  },
  {
   "cell_type": "markdown",
   "metadata": {},
   "source": [
    "Найдем значение статистики"
   ]
  },
  {
   "cell_type": "code",
   "execution_count": 89,
   "metadata": {},
   "outputs": [
    {
     "name": "stdout",
     "output_type": "stream",
     "text": [
      "Значение статистики хи-квадрат: 8.335353535353535\n"
     ]
    }
   ],
   "source": [
    "stat = 0\n",
    "for r in K_range_to_num_values.keys():\n",
    "    vi = K_range_to_num_values[r]\n",
    "    mi = M_range_to_num_values[r]\n",
    "    s1 = (vi - (vi + mi) * n / (n + m)) ** 2 / ((vi + mi) * n / (n + m))\n",
    "    s2 = (mi - (vi + mi) * m / (n + m)) ** 2 / ((vi + mi) * m / (n + m))\n",
    "    stat += s1 + s2\n",
    "    \n",
    "print(f\"Значение статистики хи-квадрат: {stat}\")"
   ]
  },
  {
   "cell_type": "markdown",
   "metadata": {},
   "source": [
    "Найдем $1 - a$ квантиль по таблице распределния хи квадрат при $a = 0.2$\n",
    "\n",
    "Это будет число $z \\approx 12.242$. Видно, что значение статистики $X^{2}_{60, 10} < z$, а значит принимаем гипотезу о том, что значения имеют одинаковое распределение"
   ]
  },
  {
   "cell_type": "markdown",
   "metadata": {},
   "source": [
    "### Критерий Вилкоксона\n",
    "\n",
    "Проверим с помощью критерия Вилкоксона гипотезу о том, что значения выборок имеют одинаковый закон распределения"
   ]
  },
  {
   "cell_type": "code",
   "execution_count": 90,
   "metadata": {},
   "outputs": [],
   "source": [
    "import pandas\n",
    "\n",
    "df = pandas.read_excel('table.xlsx')\n",
    "K = df.iloc[:, 10].dropna()\n",
    "M = df.iloc[:, 12].dropna()\n",
    "n = len(K)\n",
    "m = len(M)\n",
    "\n",
    "K = list(zip(K, [0 for _ in range(n)]))\n",
    "M = list(zip(M, [1 for _ in range(n)]))\n",
    "U = K + M\n",
    "U = sorted(U, key=lambda t : t[0])"
   ]
  },
  {
   "cell_type": "markdown",
   "metadata": {},
   "source": [
    "Найдем сумму рангов $W_{n, m}$ и посчитаем статистику Вилкоксона"
   ]
  },
  {
   "cell_type": "code",
   "execution_count": 91,
   "metadata": {},
   "outputs": [
    {
     "name": "stdout",
     "output_type": "stream",
     "text": [
      "Значение статистики Вилкоксона: 0.9166343759836704\n"
     ]
    }
   ],
   "source": [
    "W = 0\n",
    "for i, t in enumerate(U):\n",
    "    _, order = t\n",
    "    if order == 0:\n",
    "        W += i + 1\n",
    "\n",
    "stat = (W - n * (n + m + 1) / 2) / ((n * m * (n + m + 1) / 12) ** 0.5)\n",
    "    \n",
    "print(f\"Значение статистики Вилкоксона: {stat}\")"
   ]
  },
  {
   "cell_type": "markdown",
   "metadata": {},
   "source": [
    "Найдем $1 - \\frac{a}{2}$ квантиль по таблице нормального распределения при $a = 0.2$\n",
    "\n",
    "Это будет число $z \\approx 1.3$. Видно, что значение статистики Вилкоксона меньше $z$, а значит принимаем гипотезу о том, что значения имеют одинаковое распределение"
   ]
  }
 ],
 "metadata": {
  "kernelspec": {
   "display_name": "Python 3",
   "language": "python",
   "name": "python3"
  },
  "language_info": {
   "codemirror_mode": {
    "name": "ipython",
    "version": 3
   },
   "file_extension": ".py",
   "mimetype": "text/x-python",
   "name": "python",
   "nbconvert_exporter": "python",
   "pygments_lexer": "ipython3",
   "version": "3.10.11"
  },
  "orig_nbformat": 4
 },
 "nbformat": 4,
 "nbformat_minor": 2
}
